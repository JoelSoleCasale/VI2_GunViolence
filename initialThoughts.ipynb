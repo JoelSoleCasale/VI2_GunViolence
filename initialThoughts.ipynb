{
 "cells": [
  {
   "cell_type": "markdown",
   "metadata": {},
   "source": [
    "Q1: How has the number of mass shootings evolved in the big US regions between two concrete years? For this, we need you to aggregate the data in the 5 regions (Southeast, Northeast, Midwest, Northwest, and Southwest), and let the user select the first and last year of the comparison. Same for states, both views coordinated."
   ]
  },
  {
   "cell_type": "markdown",
   "metadata": {},
   "source": [
    "Ideas: Slider for the beginning and end year (so double slider). Use a map to select the state and the subsequent region (use that map to show other things for it not to be a poor data to ink ratio). Use a line chart to show evolution as it is time series data. Two plots next to each other, as it does not make sense to compare region and state level data. Both lineplots should be coordinated (selecting a year should highlight the corresponding point in the other plot, with its corresponding tooltip). <br />\n",
    "LINEPLOT xxx STATEMAP <br />\n",
    "LINEPLOT xxx &LEGEND <br />\n",
    "Need to determine what is the default view, i.e. what to show when the user opens the page and has not selected a state/region. <br />"
   ]
  },
  {
   "cell_type": "code",
   "execution_count": null,
   "metadata": {},
   "outputs": [],
   "source": []
  },
  {
   "cell_type": "markdown",
   "metadata": {},
   "source": [
    "Q2: Given a concrete year, how has the number of mass shooting per citizen grown or decreased across the different regions in the US compared to the first year of sampled data?"
   ]
  },
  {
   "cell_type": "markdown",
   "metadata": {},
   "source": [
    "Ideas: Use a bar chart per region to show percentage increase or decrease with respect to first year. Have a slider to select the year. Have scale change dynamically. (Don't need comparison across plots).\n",
    "Alternative is the slope chart with a slider and color encoding region. \n",
    "\n",
    "Advantages and disadvantages of the two approaches should be mentioned in the final report. <br />"
   ]
  },
  {
   "cell_type": "code",
   "execution_count": null,
   "metadata": {
    "vscode": {
     "languageId": "ruby"
    }
   },
   "outputs": [
    {
     "name": "stderr",
     "output_type": "stream",
     "text": [
      "/var/folders/wn/qj6r_9753p5d_p5fy9p_tfz00000gn/T/ipykernel_25943/1193136120.py:25: AltairDeprecationWarning: Deprecated in `altair=5.0.0`. Use selection_point instead.\n",
      "  state_selection = alt.selection_single(fields=['State'], bind='legend')\n",
      "/var/folders/wn/qj6r_9753p5d_p5fy9p_tfz00000gn/T/ipykernel_25943/1193136120.py:31: AltairDeprecationWarning: Deprecated in `altair=5.0.0`. Use add_params instead.\n",
      "  ).add_selection(\n"
     ]
    },
    {
     "data": {
      "text/html": [
       "\n",
       "<style>\n",
       "  #altair-viz-8114d9d5cdec42d1aebd8a35f1b16ede.vega-embed {\n",
       "    width: 100%;\n",
       "    display: flex;\n",
       "  }\n",
       "\n",
       "  #altair-viz-8114d9d5cdec42d1aebd8a35f1b16ede.vega-embed details,\n",
       "  #altair-viz-8114d9d5cdec42d1aebd8a35f1b16ede.vega-embed details summary {\n",
       "    position: relative;\n",
       "  }\n",
       "</style>\n",
       "<div id=\"altair-viz-8114d9d5cdec42d1aebd8a35f1b16ede\"></div>\n",
       "<script type=\"text/javascript\">\n",
       "  var VEGA_DEBUG = (typeof VEGA_DEBUG == \"undefined\") ? {} : VEGA_DEBUG;\n",
       "  (function(spec, embedOpt){\n",
       "    let outputDiv = document.currentScript.previousElementSibling;\n",
       "    if (outputDiv.id !== \"altair-viz-8114d9d5cdec42d1aebd8a35f1b16ede\") {\n",
       "      outputDiv = document.getElementById(\"altair-viz-8114d9d5cdec42d1aebd8a35f1b16ede\");\n",
       "    }\n",
       "    const paths = {\n",
       "      \"vega\": \"https://cdn.jsdelivr.net/npm/vega@5?noext\",\n",
       "      \"vega-lib\": \"https://cdn.jsdelivr.net/npm/vega-lib?noext\",\n",
       "      \"vega-lite\": \"https://cdn.jsdelivr.net/npm/vega-lite@5.20.1?noext\",\n",
       "      \"vega-embed\": \"https://cdn.jsdelivr.net/npm/vega-embed@6?noext\",\n",
       "    };\n",
       "\n",
       "    function maybeLoadScript(lib, version) {\n",
       "      var key = `${lib.replace(\"-\", \"\")}_version`;\n",
       "      return (VEGA_DEBUG[key] == version) ?\n",
       "        Promise.resolve(paths[lib]) :\n",
       "        new Promise(function(resolve, reject) {\n",
       "          var s = document.createElement('script');\n",
       "          document.getElementsByTagName(\"head\")[0].appendChild(s);\n",
       "          s.async = true;\n",
       "          s.onload = () => {\n",
       "            VEGA_DEBUG[key] = version;\n",
       "            return resolve(paths[lib]);\n",
       "          };\n",
       "          s.onerror = () => reject(`Error loading script: ${paths[lib]}`);\n",
       "          s.src = paths[lib];\n",
       "        });\n",
       "    }\n",
       "\n",
       "    function showError(err) {\n",
       "      outputDiv.innerHTML = `<div class=\"error\" style=\"color:red;\">${err}</div>`;\n",
       "      throw err;\n",
       "    }\n",
       "\n",
       "    function displayChart(vegaEmbed) {\n",
       "      vegaEmbed(outputDiv, spec, embedOpt)\n",
       "        .catch(err => showError(`Javascript Error: ${err.message}<br>This usually means there's a typo in your chart specification. See the javascript console for the full traceback.`));\n",
       "    }\n",
       "\n",
       "    if(typeof define === \"function\" && define.amd) {\n",
       "      requirejs.config({paths});\n",
       "      require([\"vega-embed\"], displayChart, err => showError(`Error loading script: ${err.message}`));\n",
       "    } else {\n",
       "      maybeLoadScript(\"vega\", \"5\")\n",
       "        .then(() => maybeLoadScript(\"vega-lite\", \"5.20.1\"))\n",
       "        .then(() => maybeLoadScript(\"vega-embed\", \"6\"))\n",
       "        .catch(showError)\n",
       "        .then(() => displayChart(vegaEmbed));\n",
       "    }\n",
       "  })({\"config\": {\"view\": {\"continuousWidth\": 300, \"continuousHeight\": 300}}, \"hconcat\": [{\"mark\": {\"type\": \"geoshape\"}, \"encoding\": {\"color\": {\"field\": \"Region\", \"type\": \"nominal\"}, \"tooltip\": [{\"field\": \"State\", \"type\": \"nominal\"}, {\"field\": \"Region\", \"type\": \"nominal\"}]}, \"height\": 200, \"name\": \"view_1\", \"width\": 300}, {\"mark\": {\"type\": \"bar\"}, \"encoding\": {\"color\": {\"field\": \"State\", \"type\": \"nominal\"}, \"tooltip\": [{\"field\": \"Year\", \"type\": \"ordinal\"}, {\"field\": \"State\", \"type\": \"nominal\"}, {\"field\": \"Index\", \"type\": \"quantitative\"}], \"x\": {\"field\": \"Year\", \"type\": \"ordinal\"}, \"y\": {\"field\": \"Index\", \"type\": \"quantitative\"}}, \"height\": 200, \"transform\": [{\"filter\": {\"param\": \"param_1\"}}], \"width\": 300}], \"data\": {\"name\": \"data-ad61dc4ac89d4f60b6be8d3690893c40\"}, \"params\": [{\"name\": \"param_1\", \"select\": {\"type\": \"point\", \"fields\": [\"State\"]}, \"bind\": \"legend\", \"views\": [\"view_1\"]}], \"$schema\": \"https://vega.github.io/schema/vega-lite/v5.20.1.json\", \"datasets\": {\"data-ad61dc4ac89d4f60b6be8d3690893c40\": [{\"Year\": 2000, \"State\": \"California\", \"Region\": \"West\", \"Mass_Shootings\": 10, \"Population\": 1000000, \"Mass_Shootings_Per_Citizen\": 1e-05, \"Index\": 1.0}, {\"Year\": 2001, \"State\": \"California\", \"Region\": \"West\", \"Mass_Shootings\": 15, \"Population\": 1000000, \"Mass_Shootings_Per_Citizen\": 1.5e-05, \"Index\": 1.5}, {\"Year\": 2002, \"State\": \"California\", \"Region\": \"West\", \"Mass_Shootings\": 20, \"Population\": 1000000, \"Mass_Shootings_Per_Citizen\": 2e-05, \"Index\": 2.0}, {\"Year\": 2003, \"State\": \"Texas\", \"Region\": \"South\", \"Mass_Shootings\": 5, \"Population\": 2000000, \"Mass_Shootings_Per_Citizen\": 2.5e-06, \"Index\": 2.5e-06}, {\"Year\": 2004, \"State\": \"Texas\", \"Region\": \"South\", \"Mass_Shootings\": 10, \"Population\": 2000000, \"Mass_Shootings_Per_Citizen\": 5e-06, \"Index\": 5e-06}, {\"Year\": 2005, \"State\": \"Texas\", \"Region\": \"South\", \"Mass_Shootings\": 15, \"Population\": 2000000, \"Mass_Shootings_Per_Citizen\": 7.5e-06, \"Index\": 7.5e-06}]}}, {\"mode\": \"vega-lite\"});\n",
       "</script>"
      ],
      "text/plain": [
       "alt.HConcatChart(...)"
      ]
     },
     "execution_count": 2,
     "metadata": {},
     "output_type": "execute_result"
    }
   ],
   "source": []
  },
  {
   "cell_type": "markdown",
   "metadata": {},
   "source": [
    "Q3: For the visualization in Q1, we would like you to be able to select a state, and show the\n",
    "detailed information on the counties of the state."
   ]
  },
  {
   "cell_type": "markdown",
   "metadata": {},
   "source": [
    "Ideas: Add the functionality that selecting a state prompts a side view with the counties of the state. This view should be a map with the counties highlighted, and with corresponding tooltips with information in them about the county in question. <br />"
   ]
  },
  {
   "cell_type": "code",
   "execution_count": null,
   "metadata": {},
   "outputs": [],
   "source": []
  }
 ],
 "metadata": {
  "kernelspec": {
   "display_name": "3.11.2",
   "language": "python",
   "name": "python3"
  },
  "language_info": {
   "codemirror_mode": {
    "name": "ipython",
    "version": 3
   },
   "file_extension": ".py",
   "mimetype": "text/x-python",
   "name": "python",
   "nbconvert_exporter": "python",
   "pygments_lexer": "ipython3",
   "version": "3.11.2"
  }
 },
 "nbformat": 4,
 "nbformat_minor": 2
}
