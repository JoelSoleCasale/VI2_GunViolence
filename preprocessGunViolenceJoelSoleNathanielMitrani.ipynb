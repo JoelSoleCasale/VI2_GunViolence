{
 "cells": [
  {
   "cell_type": "markdown",
   "metadata": {},
   "source": [
    "# Authors: Joel Sole Casale, Nathaniel Mitrani"
   ]
  },
  {
   "cell_type": "code",
   "execution_count": 1,
   "metadata": {},
   "outputs": [],
   "source": [
    "# install the required libraries if not already installed\n",
    "# this can be omitted if the libraries are already installed\n",
    "!pip install addfips --quiet\n",
    "!pip install tqdm --quiet"
   ]
  },
  {
   "cell_type": "markdown",
   "metadata": {},
   "source": [
    "## 1) Data cleaning"
   ]
  },
  {
   "cell_type": "code",
   "execution_count": 2,
   "metadata": {},
   "outputs": [],
   "source": [
    "import pandas as pd\n",
    "import addfips\n",
    "from tqdm import tqdm\n",
    "\n",
    "# Concat all data from GunViolenceArchive 2014-2023\n",
    "df_data = pd.concat([pd.read_csv(f'data/GunViolenceByYear/{i}.csv') for i in range(2014, 2024)])\n",
    "df_data.reset_index(drop=True, inplace=True)"
   ]
  },
  {
   "cell_type": "code",
   "execution_count": 3,
   "metadata": {},
   "outputs": [
    {
     "data": {
      "text/html": [
       "<div>\n",
       "<style scoped>\n",
       "    .dataframe tbody tr th:only-of-type {\n",
       "        vertical-align: middle;\n",
       "    }\n",
       "\n",
       "    .dataframe tbody tr th {\n",
       "        vertical-align: top;\n",
       "    }\n",
       "\n",
       "    .dataframe thead th {\n",
       "        text-align: right;\n",
       "    }\n",
       "</style>\n",
       "<table border=\"1\" class=\"dataframe\">\n",
       "  <thead>\n",
       "    <tr style=\"text-align: right;\">\n",
       "      <th></th>\n",
       "      <th>Incident ID</th>\n",
       "      <th>Incident Date</th>\n",
       "      <th>State</th>\n",
       "      <th>City Or County</th>\n",
       "      <th>Address</th>\n",
       "      <th>Victims Killed</th>\n",
       "      <th>Victims Injured</th>\n",
       "      <th>Suspects Killed</th>\n",
       "      <th>Suspects Injured</th>\n",
       "      <th>Suspects Arrested</th>\n",
       "      <th>Operations</th>\n",
       "    </tr>\n",
       "  </thead>\n",
       "  <tbody>\n",
       "    <tr>\n",
       "      <th>0</th>\n",
       "      <td>271363</td>\n",
       "      <td>December 29, 2014</td>\n",
       "      <td>Louisiana</td>\n",
       "      <td>New Orleans</td>\n",
       "      <td>Poydras and Bolivar</td>\n",
       "      <td>0</td>\n",
       "      <td>4</td>\n",
       "      <td>0</td>\n",
       "      <td>0</td>\n",
       "      <td>0</td>\n",
       "      <td>NaN</td>\n",
       "    </tr>\n",
       "    <tr>\n",
       "      <th>1</th>\n",
       "      <td>269679</td>\n",
       "      <td>December 27, 2014</td>\n",
       "      <td>California</td>\n",
       "      <td>Los Angeles</td>\n",
       "      <td>8800 block of South Figueroa Street</td>\n",
       "      <td>1</td>\n",
       "      <td>3</td>\n",
       "      <td>0</td>\n",
       "      <td>0</td>\n",
       "      <td>0</td>\n",
       "      <td>NaN</td>\n",
       "    </tr>\n",
       "    <tr>\n",
       "      <th>2</th>\n",
       "      <td>270036</td>\n",
       "      <td>December 27, 2014</td>\n",
       "      <td>California</td>\n",
       "      <td>Sacramento</td>\n",
       "      <td>4000 block of May Street</td>\n",
       "      <td>0</td>\n",
       "      <td>4</td>\n",
       "      <td>0</td>\n",
       "      <td>0</td>\n",
       "      <td>0</td>\n",
       "      <td>NaN</td>\n",
       "    </tr>\n",
       "    <tr>\n",
       "      <th>3</th>\n",
       "      <td>269167</td>\n",
       "      <td>December 26, 2014</td>\n",
       "      <td>Illinois</td>\n",
       "      <td>East St. Louis</td>\n",
       "      <td>2500 block of Summit Avenue</td>\n",
       "      <td>1</td>\n",
       "      <td>3</td>\n",
       "      <td>0</td>\n",
       "      <td>0</td>\n",
       "      <td>0</td>\n",
       "      <td>NaN</td>\n",
       "    </tr>\n",
       "    <tr>\n",
       "      <th>4</th>\n",
       "      <td>268598</td>\n",
       "      <td>December 24, 2014</td>\n",
       "      <td>Missouri</td>\n",
       "      <td>Saint Louis</td>\n",
       "      <td>18th and Pine</td>\n",
       "      <td>1</td>\n",
       "      <td>3</td>\n",
       "      <td>0</td>\n",
       "      <td>0</td>\n",
       "      <td>0</td>\n",
       "      <td>NaN</td>\n",
       "    </tr>\n",
       "  </tbody>\n",
       "</table>\n",
       "</div>"
      ],
      "text/plain": [
       "   Incident ID      Incident Date       State  City Or County  \\\n",
       "0       271363  December 29, 2014   Louisiana     New Orleans   \n",
       "1       269679  December 27, 2014  California     Los Angeles   \n",
       "2       270036  December 27, 2014  California      Sacramento   \n",
       "3       269167  December 26, 2014    Illinois  East St. Louis   \n",
       "4       268598  December 24, 2014    Missouri     Saint Louis   \n",
       "\n",
       "                               Address  Victims Killed  Victims Injured  \\\n",
       "0                  Poydras and Bolivar               0                4   \n",
       "1  8800 block of South Figueroa Street               1                3   \n",
       "2             4000 block of May Street               0                4   \n",
       "3          2500 block of Summit Avenue               1                3   \n",
       "4                        18th and Pine               1                3   \n",
       "\n",
       "   Suspects Killed  Suspects Injured  Suspects Arrested  Operations  \n",
       "0                0                 0                  0         NaN  \n",
       "1                0                 0                  0         NaN  \n",
       "2                0                 0                  0         NaN  \n",
       "3                0                 0                  0         NaN  \n",
       "4                0                 0                  0         NaN  "
      ]
     },
     "execution_count": 3,
     "metadata": {},
     "output_type": "execute_result"
    }
   ],
   "source": [
    "df_data.head()"
   ]
  },
  {
   "cell_type": "markdown",
   "metadata": {},
   "source": [
    "We remove the Operations column as it is full of NA. We also remove the Address column as it is not useful for our analysis."
   ]
  },
  {
   "cell_type": "code",
   "execution_count": 4,
   "metadata": {},
   "outputs": [],
   "source": [
    "df_data.drop(columns=[\"Operations\",\"Address\"], inplace=True)"
   ]
  },
  {
   "cell_type": "code",
   "execution_count": 5,
   "metadata": {},
   "outputs": [],
   "source": [
    "df_data.drop_duplicates(inplace=True)"
   ]
  },
  {
   "cell_type": "code",
   "execution_count": 6,
   "metadata": {},
   "outputs": [],
   "source": [
    "# Cast columns that are full of numbers to int\n",
    "for col in df_data.columns:\n",
    "    try:\n",
    "        df_data[col] = df_data[col].astype(int)\n",
    "    except:\n",
    "        pass\n",
    "\n",
    "# Cast date to datetime\n",
    "df_data[\"Incident Date\"] = pd.to_datetime(df_data[\"Incident Date\"])"
   ]
  },
  {
   "cell_type": "markdown",
   "metadata": {},
   "source": [
    "## 2) Data augmentation"
   ]
  },
  {
   "cell_type": "markdown",
   "metadata": {},
   "source": [
    "We add the county and its corresponding FIPS code to each row"
   ]
  },
  {
   "cell_type": "code",
   "execution_count": 7,
   "metadata": {},
   "outputs": [
    {
     "name": "stderr",
     "output_type": "stream",
     "text": [
      "100%|██████████| 4683/4683 [00:03<00:00, 1341.95it/s]\n"
     ]
    }
   ],
   "source": [
    "us_city_states = pd.read_csv('data/us_cities_states_counties.csv', sep='|')\n",
    "us_city_states[\"State full\"] = us_city_states[\"State full\"].replace(\"Washington, D.C.\", \"District of Columbia\")\n",
    "\n",
    "\n",
    "# create a dict to speed up the search\n",
    "state_city_dict = {\n",
    "    state: us_city_states[us_city_states[\"State full\"]==state]\n",
    "    for state in us_city_states[\"State full\"].unique()\n",
    "}\n",
    "\n",
    "df_data[\"County\"] = None\n",
    "for i, row in tqdm(df_data.iterrows(), total=df_data.shape[0]):\n",
    "    cityOrCounty = row[\"City Or County\"]\n",
    "    state = row[\"State\"]\n",
    "\n",
    "    # remove anything in parentheses\n",
    "    cityOrCounty = cityOrCounty.split(\"(\")[0].strip()\n",
    "    \n",
    "    possibleCounties = state_city_dict[state][state_city_dict[state][\"City\"]==cityOrCounty][\"County\"]\n",
    "\n",
    "    if len(possibleCounties) >= 1:\n",
    "        df_data.at[i, \"County\"] = possibleCounties.iloc[0]\n",
    "    else:\n",
    "        # search by city alias\n",
    "        possibleCounties = state_city_dict[state][state_city_dict[state][\"City alias\"]==cityOrCounty][\"County\"]\n",
    "\n",
    "        if len(possibleCounties) >= 1:\n",
    "            df_data.at[i, \"County\"] = possibleCounties.iloc[0]\n"
   ]
  },
  {
   "cell_type": "code",
   "execution_count": 8,
   "metadata": {},
   "outputs": [
    {
     "name": "stdout",
     "output_type": "stream",
     "text": [
      "               State   City Or County\n",
      "3           Illinois   East St. Louis\n",
      "73             Texas      Flour Bluff\n",
      "214        Tennessee   Lookout Valley\n",
      "479          Florida       Allapattah\n",
      "1499         Alabama          Brandon\n",
      "1706         Florida      Brownsville\n",
      "3314  South Carolina        Mccormick\n",
      "3429        Illinois  Washington Park\n",
      "3852          Kansas  Cowley (county)\n",
      "3900      California      Willowbrook\n",
      "4346      California           Florin\n"
     ]
    }
   ],
   "source": [
    "print(df_data[df_data[\"County\"].isnull()][[\"State\", \"City Or County\"]].drop_duplicates())"
   ]
  },
  {
   "cell_type": "code",
   "execution_count": 9,
   "metadata": {},
   "outputs": [
    {
     "name": "stdout",
     "output_type": "stream",
     "text": [
      "Missing counties: 0\n"
     ]
    }
   ],
   "source": [
    "manual_counties = {\n",
    "    (\"Illinois\", \"East St. Louis\"): \"St. Clair\",\n",
    "    (\"Texas\", \"Flour Bluff\"): \"Nueces\",\n",
    "    (\"Tennessee\", \"Lookout Valley\"): \"Hamilton\",\n",
    "    (\"Florida\", \"Allapattah\"): \"Miami-Dade\",\n",
    "    (\"Alabama\", \"Brandon\"): \"Jefferson\",\n",
    "    (\"Florida\", \"Brownsville\"): \"Miami-Dade\",\n",
    "    (\"South Carolina\", \"Mccormick\"): \"Mccormick\",\n",
    "    (\"Illinois\", \"Washington Park\"): \"St. Clair\",\n",
    "    (\"Kansas\", \"Cowley (county)\"): \"Cowley\",\n",
    "    (\"California\", \"Willowbrook\"): \"Los Angeles\",\n",
    "    (\"California\", \"Florin\"): \"Sacramento\"\n",
    "}\n",
    "\n",
    "df_data[\"County\"] = df_data.apply(lambda row: manual_counties.get((row[\"State\"], row[\"City Or County\"]), row[\"County\"]), axis=1)\n",
    "\n",
    "print(f\"Missing counties: {df_data['County'].isnull().sum()}\")"
   ]
  },
  {
   "cell_type": "code",
   "execution_count": 10,
   "metadata": {},
   "outputs": [
    {
     "name": "stderr",
     "output_type": "stream",
     "text": [
      "100%|██████████| 4683/4683 [00:00<00:00, 8554.56it/s]\n"
     ]
    }
   ],
   "source": [
    "# add the FIPS code using the addfips library\n",
    "af = addfips.AddFIPS()\n",
    "\n",
    "df_data[\"FIPS\"] = None\n",
    "\n",
    "for i, row in tqdm(df_data.iterrows(), total=df_data.shape[0]):\n",
    "    county = row[\"County\"]\n",
    "    state = row[\"State\"]\n",
    "\n",
    "    if county is None:\n",
    "        continue\n",
    "\n",
    "    if county[:3] == \"ST \": # fix ST. to ST\n",
    "        county = \"ST. \" + county[3:]\n",
    "\n",
    "    fips = af.get_county_fips(county, state)\n",
    "    df_data.at[i, \"FIPS\"] = fips"
   ]
  },
  {
   "cell_type": "code",
   "execution_count": 11,
   "metadata": {},
   "outputs": [
    {
     "name": "stdout",
     "output_type": "stream",
     "text": [
      "        State City Or County             County\n",
      "2109   Alaska         Palmer  MATANUSKA SUSITNA\n",
      "4339  Indiana  Michigan City           LA PORTE\n"
     ]
    }
   ],
   "source": [
    "print(df_data[df_data[\"FIPS\"].isnull()][[\"State\", \"City Or County\", \"County\"]])"
   ]
  },
  {
   "cell_type": "code",
   "execution_count": 12,
   "metadata": {},
   "outputs": [
    {
     "name": "stdout",
     "output_type": "stream",
     "text": [
      "Missing FIPS codes: 0\n"
     ]
    }
   ],
   "source": [
    "manual_fips = {\n",
    "    (\"Alaska\", \"Palmer\"): \"02170\",\n",
    "    (\"Indiana\", \"Michigan City\"): \"18091\"\n",
    "}\n",
    "\n",
    "df_data[\"FIPS\"] = df_data.apply(lambda row: manual_fips.get((row[\"State\"], row[\"City Or County\"]), row[\"FIPS\"]), axis=1)\n",
    "\n",
    "print(f\"Missing FIPS codes: {df_data['FIPS'].isnull().sum()}\")"
   ]
  },
  {
   "cell_type": "markdown",
   "metadata": {},
   "source": [
    "We add the population of each county to each row"
   ]
  },
  {
   "cell_type": "code",
   "execution_count": 13,
   "metadata": {},
   "outputs": [],
   "source": [
    "df_population = pd.read_csv('data/co-est2023-alldata.csv', encoding='latin-1')\n",
    "\n",
    "# Rename the STATE column to State\n",
    "df_population.rename(columns={'STNAME': 'State'}, inplace=True)\n",
    "\n",
    "df_pop_per_state = df_population[df_population['COUNTY'] == 0]\n",
    "\n",
    "# Add population per state\n",
    "df_data = df_data.merge(df_pop_per_state[['State','POPESTIMATE2023']], on='State', how='left')\n",
    "df_data.rename(columns={'POPESTIMATE2023': 'Population_per_state_2023'}, inplace=True)"
   ]
  },
  {
   "cell_type": "code",
   "execution_count": 14,
   "metadata": {},
   "outputs": [],
   "source": [
    "df_pop_per_counties = df_population[df_population['COUNTY'] != 0].copy()\n",
    "\n",
    "df_pop_per_counties[\"FIPS\"] = df_pop_per_counties[\"STATE\"].astype(str).str.zfill(2) + df_pop_per_counties[\"COUNTY\"].astype(str).str.zfill(3)\n",
    "\n",
    "# Add population per county\n",
    "df_data = df_data.merge(df_pop_per_counties[['FIPS','POPESTIMATE2023']], on='FIPS', how='left')\n",
    "df_data.rename(columns={'POPESTIMATE2023': 'Population_per_county_2023'}, inplace=True)"
   ]
  },
  {
   "cell_type": "code",
   "execution_count": 15,
   "metadata": {},
   "outputs": [],
   "source": [
    "df_data.to_csv('data/gun_violence_processed.csv', index=False)"
   ]
  }
 ],
 "metadata": {
  "kernelspec": {
   "display_name": "vi_env",
   "language": "python",
   "name": "python3"
  },
  "language_info": {
   "codemirror_mode": {
    "name": "ipython",
    "version": 3
   },
   "file_extension": ".py",
   "mimetype": "text/x-python",
   "name": "python",
   "nbconvert_exporter": "python",
   "pygments_lexer": "ipython3",
   "version": "3.10.15"
  }
 },
 "nbformat": 4,
 "nbformat_minor": 2
}
